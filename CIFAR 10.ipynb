{
 "cells": [
  {
   "cell_type": "markdown",
   "metadata": {},
   "source": [
    "# CIFAR 10"
   ]
  },
  {
   "cell_type": "code",
   "execution_count": 1,
   "metadata": {},
   "outputs": [],
   "source": [
    "%matplotlib inline\n",
    "%reload_ext autoreload\n",
    "%autoreload 2"
   ]
  },
  {
   "cell_type": "code",
   "execution_count": 2,
   "metadata": {},
   "outputs": [],
   "source": [
    "#!wget http://pjreddie.com/media/files/cifar.tgz"
   ]
  },
  {
   "cell_type": "code",
   "execution_count": 3,
   "metadata": {},
   "outputs": [
    {
     "name": "stdout",
     "output_type": "stream",
     "text": [
      "cifar.tgz  cifar10  mnist\r\n"
     ]
    }
   ],
   "source": [
    "# I moved it to the data folder manually\n",
    "!ls data/"
   ]
  },
  {
   "cell_type": "code",
   "execution_count": 4,
   "metadata": {},
   "outputs": [
    {
     "name": "stdout",
     "output_type": "stream",
     "text": [
      "labels.txt  test  train\n",
      "bird  car  cat\tdeer  dog  frog  horse\tplane  ship  truck\n"
     ]
    }
   ],
   "source": [
    "from fastai.conv_learner import *\n",
    "PATH = \"data/cifar10/\"\n",
    "os.makedirs(PATH,exist_ok=True)\n",
    "\n",
    "!ls {PATH}\n",
    "\n",
    "# fixing this was not that bad but not fun\n",
    "\n",
    "if not os.path.exists(f\"{PATH}/train/bird\"):\n",
    "   raise Exception(\"expecting class subdirs under 'train/' and 'test/'\")\n",
    "!ls {PATH}/train"
   ]
  },
  {
   "cell_type": "code",
   "execution_count": 8,
   "metadata": {},
   "outputs": [
    {
     "name": "stdout",
     "output_type": "stream",
     "text": [
      "\u001b[01;34mdata/cifar10\u001b[00m\n",
      "├── \u001b[01;34mtest\u001b[00m\n",
      "│   ├── \u001b[01;34mbird\u001b[00m\n",
      "│   ├── \u001b[01;34mcar\u001b[00m\n",
      "│   ├── \u001b[01;34mcat\u001b[00m\n",
      "│   ├── \u001b[01;34mdeer\u001b[00m\n",
      "│   ├── \u001b[01;34mdog\u001b[00m\n",
      "│   ├── \u001b[01;34mfrog\u001b[00m\n",
      "│   ├── \u001b[01;34mhorse\u001b[00m\n",
      "│   ├── \u001b[01;34mplane\u001b[00m\n",
      "│   ├── \u001b[01;34mship\u001b[00m\n",
      "│   └── \u001b[01;34mtruck\u001b[00m\n",
      "└── \u001b[01;34mtrain\u001b[00m\n",
      "    ├── \u001b[01;34mbird\u001b[00m\n",
      "    ├── \u001b[01;34mcar\u001b[00m\n",
      "    ├── \u001b[01;34mcat\u001b[00m\n",
      "    ├── \u001b[01;34mdeer\u001b[00m\n",
      "    ├── \u001b[01;34mdog\u001b[00m\n",
      "    ├── \u001b[01;34mfrog\u001b[00m\n",
      "    ├── \u001b[01;34mhorse\u001b[00m\n",
      "    ├── \u001b[01;34mplane\u001b[00m\n",
      "    ├── \u001b[01;34mship\u001b[00m\n",
      "    └── \u001b[01;34mtruck\u001b[00m\n",
      "\n",
      "22 directories\n"
     ]
    }
   ],
   "source": [
    "!tree -d data/cifar10"
   ]
  },
  {
   "cell_type": "code",
   "execution_count": 5,
   "metadata": {},
   "outputs": [],
   "source": [
    "# list of classes\n",
    "classes = ('plane', 'car', 'bird', 'cat', 'deer', 'dog', 'frog', 'horse', 'ship', 'truck')\n",
    "\n",
    "### THIS IS STOPPING ME FROM GOING FORWARD I HAVE NO CLUE\n",
    "\n",
    "# this is the mean and standard deviation per channel of the inputs\n",
    "stats = (np.array([ 0.4914 ,  0.48216,  0.44653]), np.array([ 0.24703,  0.24349,  0.26159]))"
   ]
  },
  {
   "cell_type": "code",
   "execution_count": 6,
   "metadata": {},
   "outputs": [],
   "source": [
    "def get_data(sz,bs):\n",
    "    tfms = tfms_from_stats(stats, sz, aug_tfms=[RandomFlip()], pad=sz//8)\n",
    "    return ImageClassifierData.from_paths(PATH, val_name='test', tfms=tfms, bs=bs)"
   ]
  },
  {
   "cell_type": "code",
   "execution_count": null,
   "metadata": {},
   "outputs": [],
   "source": []
  }
 ],
 "metadata": {
  "kernelspec": {
   "display_name": "Python 3",
   "language": "python",
   "name": "python3"
  },
  "language_info": {
   "codemirror_mode": {
    "name": "ipython",
    "version": 3
   },
   "file_extension": ".py",
   "mimetype": "text/x-python",
   "name": "python",
   "nbconvert_exporter": "python",
   "pygments_lexer": "ipython3",
   "version": "3.6.3"
  }
 },
 "nbformat": 4,
 "nbformat_minor": 2
}
